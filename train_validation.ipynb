{
 "cells": [
  {
   "cell_type": "code",
   "execution_count": 2,
   "metadata": {
    "ExecuteTime": {
     "end_time": "2024-10-14T17:45:59.796446Z",
     "start_time": "2024-10-14T17:45:59.783542Z"
    }
   },
   "outputs": [],
   "source": [
    "import pandas as pd\n",
    "import json"
   ]
  },
  {
   "cell_type": "code",
   "execution_count": 3,
   "metadata": {
    "ExecuteTime": {
     "end_time": "2024-10-14T17:46:43.823416Z",
     "start_time": "2024-10-14T17:46:43.771909Z"
    }
   },
   "outputs": [],
   "source": [
    "with open(\"data/annotations/train.json\") as f:\n",
    "    data = json.load(f)\n"
   ]
  },
  {
   "cell_type": "code",
   "execution_count": 4,
   "metadata": {
    "ExecuteTime": {
     "end_time": "2024-10-14T17:46:46.387530Z",
     "start_time": "2024-10-14T17:46:46.342980Z"
    }
   },
   "outputs": [
    {
     "data": {
      "text/plain": "            file_name\n308   12513_84_13.png\n13   12513_116_31.png\n414   12513_99_24.png\n32    12513_37_55.png\n460   12513_84_15.png\n..                ...\n211    12513_93_7.png\n67    12513_98_26.png\n25   12513_162_52.png\n196   12513_85_12.png\n175   12513_52_15.png\n\n[500 rows x 1 columns]",
      "text/html": "<div>\n<style scoped>\n    .dataframe tbody tr th:only-of-type {\n        vertical-align: middle;\n    }\n\n    .dataframe tbody tr th {\n        vertical-align: top;\n    }\n\n    .dataframe thead th {\n        text-align: right;\n    }\n</style>\n<table border=\"1\" class=\"dataframe\">\n  <thead>\n    <tr style=\"text-align: right;\">\n      <th></th>\n      <th>file_name</th>\n    </tr>\n  </thead>\n  <tbody>\n    <tr>\n      <th>308</th>\n      <td>12513_84_13.png</td>\n    </tr>\n    <tr>\n      <th>13</th>\n      <td>12513_116_31.png</td>\n    </tr>\n    <tr>\n      <th>414</th>\n      <td>12513_99_24.png</td>\n    </tr>\n    <tr>\n      <th>32</th>\n      <td>12513_37_55.png</td>\n    </tr>\n    <tr>\n      <th>460</th>\n      <td>12513_84_15.png</td>\n    </tr>\n    <tr>\n      <th>...</th>\n      <td>...</td>\n    </tr>\n    <tr>\n      <th>211</th>\n      <td>12513_93_7.png</td>\n    </tr>\n    <tr>\n      <th>67</th>\n      <td>12513_98_26.png</td>\n    </tr>\n    <tr>\n      <th>25</th>\n      <td>12513_162_52.png</td>\n    </tr>\n    <tr>\n      <th>196</th>\n      <td>12513_85_12.png</td>\n    </tr>\n    <tr>\n      <th>175</th>\n      <td>12513_52_15.png</td>\n    </tr>\n  </tbody>\n</table>\n<p>500 rows × 1 columns</p>\n</div>"
     },
     "execution_count": 4,
     "metadata": {},
     "output_type": "execute_result"
    }
   ],
   "source": [
    "# Convert the 'images' section to a DataFrame\n",
    "images_df = pd.DataFrame(data['images'])\n",
    "\n",
    "# Inspect the first few rows\n",
    "\n",
    "train = images_df[['file_name']].sample(500,random_state=7)\n",
    "train"
   ]
  },
  {
   "cell_type": "code",
   "execution_count": 5,
   "metadata": {
    "ExecuteTime": {
     "end_time": "2024-10-14T17:46:49.742652Z",
     "start_time": "2024-10-14T17:46:49.731915Z"
    }
   },
   "outputs": [
    {
     "data": {
      "text/plain": "            file_name\n442   12513_68_18.png\n12   12513_101_24.png\n272  12513_123_50.png\n47     12513_65_3.png\n203   12513_89_11.png\n..                ...\n211    12513_93_7.png\n67    12513_98_26.png\n25   12513_162_52.png\n196   12513_85_12.png\n175   12513_52_15.png\n\n[100 rows x 1 columns]",
      "text/html": "<div>\n<style scoped>\n    .dataframe tbody tr th:only-of-type {\n        vertical-align: middle;\n    }\n\n    .dataframe tbody tr th {\n        vertical-align: top;\n    }\n\n    .dataframe thead th {\n        text-align: right;\n    }\n</style>\n<table border=\"1\" class=\"dataframe\">\n  <thead>\n    <tr style=\"text-align: right;\">\n      <th></th>\n      <th>file_name</th>\n    </tr>\n  </thead>\n  <tbody>\n    <tr>\n      <th>442</th>\n      <td>12513_68_18.png</td>\n    </tr>\n    <tr>\n      <th>12</th>\n      <td>12513_101_24.png</td>\n    </tr>\n    <tr>\n      <th>272</th>\n      <td>12513_123_50.png</td>\n    </tr>\n    <tr>\n      <th>47</th>\n      <td>12513_65_3.png</td>\n    </tr>\n    <tr>\n      <th>203</th>\n      <td>12513_89_11.png</td>\n    </tr>\n    <tr>\n      <th>...</th>\n      <td>...</td>\n    </tr>\n    <tr>\n      <th>211</th>\n      <td>12513_93_7.png</td>\n    </tr>\n    <tr>\n      <th>67</th>\n      <td>12513_98_26.png</td>\n    </tr>\n    <tr>\n      <th>25</th>\n      <td>12513_162_52.png</td>\n    </tr>\n    <tr>\n      <th>196</th>\n      <td>12513_85_12.png</td>\n    </tr>\n    <tr>\n      <th>175</th>\n      <td>12513_52_15.png</td>\n    </tr>\n  </tbody>\n</table>\n<p>100 rows × 1 columns</p>\n</div>"
     },
     "execution_count": 5,
     "metadata": {},
     "output_type": "execute_result"
    }
   ],
   "source": [
    "validation = train.iloc[400:,:]\n",
    "validation"
   ]
  },
  {
   "cell_type": "code",
   "execution_count": 6,
   "metadata": {
    "ExecuteTime": {
     "end_time": "2024-10-14T17:47:00.653393Z",
     "start_time": "2024-10-14T17:47:00.641158Z"
    }
   },
   "outputs": [
    {
     "data": {
      "text/plain": "            file_name\n308   12513_84_13.png\n13   12513_116_31.png\n414   12513_99_24.png\n32    12513_37_55.png\n460   12513_84_15.png\n..                ...\n323   12513_97_25.png\n332  12513_101_20.png\n393    12513_85_8.png\n435    12513_57_7.png\n107  12513_107_30.png\n\n[400 rows x 1 columns]",
      "text/html": "<div>\n<style scoped>\n    .dataframe tbody tr th:only-of-type {\n        vertical-align: middle;\n    }\n\n    .dataframe tbody tr th {\n        vertical-align: top;\n    }\n\n    .dataframe thead th {\n        text-align: right;\n    }\n</style>\n<table border=\"1\" class=\"dataframe\">\n  <thead>\n    <tr style=\"text-align: right;\">\n      <th></th>\n      <th>file_name</th>\n    </tr>\n  </thead>\n  <tbody>\n    <tr>\n      <th>308</th>\n      <td>12513_84_13.png</td>\n    </tr>\n    <tr>\n      <th>13</th>\n      <td>12513_116_31.png</td>\n    </tr>\n    <tr>\n      <th>414</th>\n      <td>12513_99_24.png</td>\n    </tr>\n    <tr>\n      <th>32</th>\n      <td>12513_37_55.png</td>\n    </tr>\n    <tr>\n      <th>460</th>\n      <td>12513_84_15.png</td>\n    </tr>\n    <tr>\n      <th>...</th>\n      <td>...</td>\n    </tr>\n    <tr>\n      <th>323</th>\n      <td>12513_97_25.png</td>\n    </tr>\n    <tr>\n      <th>332</th>\n      <td>12513_101_20.png</td>\n    </tr>\n    <tr>\n      <th>393</th>\n      <td>12513_85_8.png</td>\n    </tr>\n    <tr>\n      <th>435</th>\n      <td>12513_57_7.png</td>\n    </tr>\n    <tr>\n      <th>107</th>\n      <td>12513_107_30.png</td>\n    </tr>\n  </tbody>\n</table>\n<p>400 rows × 1 columns</p>\n</div>"
     },
     "execution_count": 6,
     "metadata": {},
     "output_type": "execute_result"
    }
   ],
   "source": [
    "train = train.iloc[:400,:]\n",
    "train"
   ]
  },
  {
   "cell_type": "code",
   "execution_count": 7,
   "metadata": {
    "ExecuteTime": {
     "end_time": "2024-10-14T17:47:30.298140Z",
     "start_time": "2024-10-14T17:47:30.289295Z"
    }
   },
   "outputs": [
    {
     "data": {
      "text/plain": "308     12513_84_13.txt\n13     12513_116_31.txt\n414     12513_99_24.txt\n32      12513_37_55.txt\n460     12513_84_15.txt\n             ...       \n323     12513_97_25.txt\n332    12513_101_20.txt\n393      12513_85_8.txt\n435      12513_57_7.txt\n107    12513_107_30.txt\nName: file_name, Length: 400, dtype: object"
     },
     "execution_count": 7,
     "metadata": {},
     "output_type": "execute_result"
    }
   ],
   "source": [
    "train_txt = train['file_name'].apply(lambda x:x.replace('.png', '.txt'))\n",
    "validation_txt = validation['file_name'].apply(lambda x:x.replace('.png', '.txt'))\n",
    "train_txt"
   ]
  },
  {
   "cell_type": "code",
   "execution_count": 8,
   "metadata": {
    "ExecuteTime": {
     "end_time": "2024-10-14T17:53:23.055712Z",
     "start_time": "2024-10-14T17:53:23.041897Z"
    }
   },
   "outputs": [],
   "source": [
    "import shutil\n",
    "import os\n",
    "\n",
    "def move_train(x):\n",
    "    # Source and destination\n",
    "    src = './data/images/' + x\n",
    "    dst = './data/model_data/train/' + x\n",
    "\n",
    "    # Copy File\n",
    "    shutil.copy(src, dst)  # shutil.copy(src, dst) hem Linux hem de Windows'ta çalışır\n",
    "\n",
    "def move_valid(x):\n",
    "    # Source and destination\n",
    "    src = './data/images/' + x\n",
    "    dst = './data/model_data/val/' + x\n",
    "\n",
    "    # Copy File\n",
    "    shutil.copy(src, dst)\n",
    "\n",
    "    "
   ]
  },
  {
   "cell_type": "code",
   "execution_count": 9,
   "metadata": {
    "ExecuteTime": {
     "end_time": "2024-10-14T17:53:28.582433Z",
     "start_time": "2024-10-14T17:53:26.224082Z"
    }
   },
   "outputs": [
    {
     "data": {
      "text/plain": "308    None\n13     None\n414    None\n32     None\n460    None\n       ... \n323    None\n332    None\n393    None\n435    None\n107    None\nName: file_name, Length: 400, dtype: object"
     },
     "execution_count": 9,
     "metadata": {},
     "output_type": "execute_result"
    }
   ],
   "source": [
    "train_txt.apply(move_train)"
   ]
  },
  {
   "cell_type": "code",
   "execution_count": 10,
   "metadata": {
    "ExecuteTime": {
     "end_time": "2024-10-14T17:53:37.096871Z",
     "start_time": "2024-10-14T17:53:33.892611Z"
    }
   },
   "outputs": [
    {
     "data": {
      "text/plain": "308    None\n13     None\n414    None\n32     None\n460    None\n       ... \n323    None\n332    None\n393    None\n435    None\n107    None\nName: file_name, Length: 400, dtype: object"
     },
     "execution_count": 10,
     "metadata": {},
     "output_type": "execute_result"
    }
   ],
   "source": [
    "train['file_name'].apply(move_train)"
   ]
  },
  {
   "cell_type": "code",
   "execution_count": 11,
   "metadata": {
    "ExecuteTime": {
     "end_time": "2024-10-14T17:53:41.157647Z",
     "start_time": "2024-10-14T17:53:39.828878Z"
    }
   },
   "outputs": [
    {
     "data": {
      "text/plain": "442    None\n12     None\n272    None\n47     None\n203    None\n       ... \n211    None\n67     None\n25     None\n196    None\n175    None\nName: file_name, Length: 100, dtype: object"
     },
     "execution_count": 11,
     "metadata": {},
     "output_type": "execute_result"
    }
   ],
   "source": [
    "validation_txt.apply(move_valid)\n",
    "validation['file_name'].apply(move_valid)"
   ]
  }
 ],
 "metadata": {
  "kernelspec": {
   "display_name": "yap101",
   "language": "python",
   "name": "python3"
  },
  "language_info": {
   "codemirror_mode": {
    "name": "ipython",
    "version": 3
   },
   "file_extension": ".py",
   "mimetype": "text/x-python",
   "name": "python",
   "nbconvert_exporter": "python",
   "pygments_lexer": "ipython3",
   "version": "3.12.4"
  }
 },
 "nbformat": 4,
 "nbformat_minor": 2
}
