{
 "cells": [
  {
   "cell_type": "code",
   "execution_count": 1,
   "metadata": {
    "ExecuteTime": {
     "end_time": "2024-10-15T11:58:33.367101Z",
     "start_time": "2024-10-15T11:58:32.012836Z"
    }
   },
   "outputs": [],
   "source": [
    "import json\n",
    "import pandas as pd"
   ]
  },
  {
   "cell_type": "code",
   "execution_count": 2,
   "metadata": {
    "ExecuteTime": {
     "end_time": "2024-10-15T11:58:33.382777Z",
     "start_time": "2024-10-15T11:58:33.369233Z"
    }
   },
   "outputs": [],
   "source": [
    "with open(\"data/results-31.json\") as f:\n",
    "    data = json.load(f)\n"
   ]
  },
  {
   "cell_type": "code",
   "execution_count": 3,
   "metadata": {
    "ExecuteTime": {
     "end_time": "2024-10-15T11:58:33.414088Z",
     "start_time": "2024-10-15T11:58:33.383930Z"
    }
   },
   "outputs": [
    {
     "data": {
      "text/plain": "      image_id  category_id  \\\n0           74            1   \n1           74            1   \n2           74            1   \n3           74            1   \n4           74            1   \n...        ...          ...   \n2822       631            1   \n2823       631            2   \n2824       631            1   \n2825       631            2   \n2826       631            1   \n\n                                                   bbox     score  \n0     [417.9322814941406, 400.23883056640625, 47.903...  0.939064  \n1     [66.95234680175781, 427.56439208984375, 49.001...  0.897183  \n2     [271.44622802734375, 0.18396759033203125, 131....  0.863877  \n3     [398.69219970703125, 17.335731506347656, 111.9...  0.863324  \n4     [108.7020263671875, 248.56393432617188, 81.446...  0.820645  \n...                                                 ...       ...  \n2822  [72.97250366210938, 496.97552490234375, 74.035...  0.580440  \n2823  [257.41925048828125, 312.25347900390625, 31.48...  0.569817  \n2824  [401.1463623046875, 185.92041015625, 48.221679...  0.550418  \n2825  [406.6163330078125, 415.4301452636719, 31.8507...  0.292400  \n2826  [201.96102905273438, 0.0, 62.116180419921875, ...  0.254458  \n\n[2827 rows x 4 columns]",
      "text/html": "<div>\n<style scoped>\n    .dataframe tbody tr th:only-of-type {\n        vertical-align: middle;\n    }\n\n    .dataframe tbody tr th {\n        vertical-align: top;\n    }\n\n    .dataframe thead th {\n        text-align: right;\n    }\n</style>\n<table border=\"1\" class=\"dataframe\">\n  <thead>\n    <tr style=\"text-align: right;\">\n      <th></th>\n      <th>image_id</th>\n      <th>category_id</th>\n      <th>bbox</th>\n      <th>score</th>\n    </tr>\n  </thead>\n  <tbody>\n    <tr>\n      <th>0</th>\n      <td>74</td>\n      <td>1</td>\n      <td>[417.9322814941406, 400.23883056640625, 47.903...</td>\n      <td>0.939064</td>\n    </tr>\n    <tr>\n      <th>1</th>\n      <td>74</td>\n      <td>1</td>\n      <td>[66.95234680175781, 427.56439208984375, 49.001...</td>\n      <td>0.897183</td>\n    </tr>\n    <tr>\n      <th>2</th>\n      <td>74</td>\n      <td>1</td>\n      <td>[271.44622802734375, 0.18396759033203125, 131....</td>\n      <td>0.863877</td>\n    </tr>\n    <tr>\n      <th>3</th>\n      <td>74</td>\n      <td>1</td>\n      <td>[398.69219970703125, 17.335731506347656, 111.9...</td>\n      <td>0.863324</td>\n    </tr>\n    <tr>\n      <th>4</th>\n      <td>74</td>\n      <td>1</td>\n      <td>[108.7020263671875, 248.56393432617188, 81.446...</td>\n      <td>0.820645</td>\n    </tr>\n    <tr>\n      <th>...</th>\n      <td>...</td>\n      <td>...</td>\n      <td>...</td>\n      <td>...</td>\n    </tr>\n    <tr>\n      <th>2822</th>\n      <td>631</td>\n      <td>1</td>\n      <td>[72.97250366210938, 496.97552490234375, 74.035...</td>\n      <td>0.580440</td>\n    </tr>\n    <tr>\n      <th>2823</th>\n      <td>631</td>\n      <td>2</td>\n      <td>[257.41925048828125, 312.25347900390625, 31.48...</td>\n      <td>0.569817</td>\n    </tr>\n    <tr>\n      <th>2824</th>\n      <td>631</td>\n      <td>1</td>\n      <td>[401.1463623046875, 185.92041015625, 48.221679...</td>\n      <td>0.550418</td>\n    </tr>\n    <tr>\n      <th>2825</th>\n      <td>631</td>\n      <td>2</td>\n      <td>[406.6163330078125, 415.4301452636719, 31.8507...</td>\n      <td>0.292400</td>\n    </tr>\n    <tr>\n      <th>2826</th>\n      <td>631</td>\n      <td>1</td>\n      <td>[201.96102905273438, 0.0, 62.116180419921875, ...</td>\n      <td>0.254458</td>\n    </tr>\n  </tbody>\n</table>\n<p>2827 rows × 4 columns</p>\n</div>"
     },
     "execution_count": 3,
     "metadata": {},
     "output_type": "execute_result"
    }
   ],
   "source": [
    "test = pd.DataFrame(data)\n",
    "test\n"
   ]
  },
  {
   "cell_type": "code",
   "execution_count": 4,
   "metadata": {
    "ExecuteTime": {
     "end_time": "2024-10-15T11:58:33.428993Z",
     "start_time": "2024-10-15T11:58:33.416517Z"
    }
   },
   "outputs": [
    {
     "data": {
      "text/plain": "{1: '12513_107_36.png',\n 2: '12513_100_34.png',\n 5: '12513_109_23.png',\n 6: '12513_100_36.png',\n 8: '12513_111_39.png',\n 11: '12513_111_45.png',\n 17: '12513_113_45.png',\n 22: '12513_101_25.png',\n 31: '12513_101_33.png',\n 32: '12513_101_34.png',\n 36: '12513_160_51.png',\n 37: '12513_161_55.png',\n 41: '12513_36_51.png',\n 44: '12513_37_51.png',\n 55: '12513_53_14.png',\n 57: '12513_55_17.png',\n 61: '12513_60_10.png',\n 63: '12513_60_12.png',\n 64: '12513_60_8.png',\n 71: '12513_102_28.png',\n 73: '12513_102_32.png',\n 74: '12513_100_26.png',\n 76: '12513_86_21.png',\n 80: '12513_103_20.png',\n 87: '12513_95_35.png',\n 93: '12513_98_25.png',\n 110: '12513_101_45.png',\n 115: '12513_103_32.png',\n 126: '12513_105_24.png',\n 129: '12513_106_21.png',\n 141: '12513_108_28.png',\n 143: '12513_108_30.png',\n 149: '12513_109_34.png',\n 152: '12513_110_47.png',\n 158: '12513_113_24.png',\n 160: '12513_114_47.png',\n 171: '12513_118_39.png',\n 172: '12513_118_40.png',\n 174: '12513_118_42.png',\n 184: '12513_125_54.png',\n 186: '12513_125_58.png',\n 187: '12513_128_43.png',\n 189: '12513_104_25.png',\n 190: '12513_128_57.png',\n 192: '12513_129_38.png',\n 196: '12513_132_32.png',\n 198: '12513_134_30.png',\n 206: '12513_140_60.png',\n 211: '12513_152_55.png',\n 213: '12513_156_56.png',\n 217: '12513_157_58.png',\n 219: '12513_184_54.png',\n 220: '12513_185_55.png',\n 221: '12513_185_58.png',\n 222: '12513_186_51.png',\n 224: '12513_24_5.png',\n 236: '12513_59_10.png',\n 240: '12513_63_12.png',\n 242: '12513_64_10.png',\n 249: '12513_75_18.png',\n 252: '12513_80_4.png',\n 253: '12513_81_20.png',\n 259: '12513_84_6.png',\n 261: '12513_85_13.png',\n 263: '12513_85_23.png',\n 277: '12513_93_10.png',\n 278: '12513_93_6.png',\n 292: '12513_96_31.png',\n 296: '12513_98_11.png',\n 300: '12513_99_1.png',\n 302: '12513_99_13.png',\n 308: '12513_100_39.png',\n 316: '12513_103_34.png',\n 318: '12513_104_24.png',\n 320: '12513_105_20.png',\n 342: '12513_115_36.png',\n 345: '12513_118_37.png',\n 355: '12513_128_54.png',\n 357: '12513_130_60.png',\n 372: '12513_2_53.png',\n 376: '12513_50_3.png',\n 380: '12513_59_9.png',\n 386: '12513_69_16.png',\n 388: '12513_76_18.png',\n 394: '12513_84_14.png',\n 395: '12513_86_1.png',\n 397: '12513_87_15.png',\n 399: '12513_88_20.png',\n 403: '12513_92_12.png',\n 408: '12513_94_34.png',\n 411: '12513_95_22.png',\n 414: '12513_96_16.png',\n 415: '12513_96_32.png',\n 429: '12513_102_30.png',\n 431: '12513_103_27.png',\n 436: '12513_104_40.png',\n 439: '12513_106_32.png',\n 449: '12513_110_40.png',\n 454: '12513_114_26.png',\n 455: '12513_115_45.png',\n 459: '12513_118_52.png',\n 462: '12513_122_50.png',\n 474: '12513_149_55.png',\n 481: '12513_22_44.png',\n 483: '12513_38_56.png',\n 484: '12513_51_14.png',\n 489: '12513_61_7.png',\n 490: '12513_64_14.png',\n 503: '12513_86_15.png',\n 513: '12513_94_16.png',\n 525: '12513_99_21.png',\n 541: '12513_119_39.png',\n 544: '12513_38_57.png',\n 554: '12513_63_9.png',\n 557: '12513_65_14.png',\n 560: '12513_69_18.png',\n 566: '12513_73_18.png',\n 569: '12513_78_3.png',\n 578: '12513_83_14.png',\n 593: '12513_87_22.png',\n 594: '12513_88_17.png',\n 597: '12513_89_15.png',\n 601: '12513_90_20.png',\n 604: '12513_92_27.png',\n 606: '12513_93_17.png',\n 614: '12513_94_21.png',\n 615: '12513_94_22.png',\n 621: '12513_96_14.png',\n 624: '12513_96_19.png',\n 631: '12513_99_29.png'}"
     },
     "execution_count": 4,
     "metadata": {},
     "output_type": "execute_result"
    }
   ],
   "source": [
    "with open(\"data/image_file_name_to_image_id.json\") as f:\n",
    "    name_id = json.load(f)\n",
    "df = pd.DataFrame(name_id,index=range(0,1))  \n",
    "df = df.T.reset_index()\n",
    "df.columns = ['Değer', 'Dosya Adı']  #\n",
    "id_name = dict(zip(df['Dosya Adı'], df['Değer']))\n",
    "id_name\n"
   ]
  },
  {
   "cell_type": "code",
   "execution_count": 5,
   "metadata": {
    "ExecuteTime": {
     "end_time": "2024-10-15T11:58:33.444233Z",
     "start_time": "2024-10-15T11:58:33.430083Z"
    }
   },
   "outputs": [
    {
     "data": {
      "text/plain": "              image_id  category_id  \\\n0     12513_100_26.png            1   \n1     12513_100_26.png            1   \n2     12513_100_26.png            1   \n3     12513_100_26.png            1   \n4     12513_100_26.png            1   \n...                ...          ...   \n2822   12513_99_29.png            1   \n2823   12513_99_29.png            2   \n2824   12513_99_29.png            1   \n2825   12513_99_29.png            2   \n2826   12513_99_29.png            1   \n\n                                                   bbox     score  \n0     [417.9322814941406, 400.23883056640625, 47.903...  0.939064  \n1     [66.95234680175781, 427.56439208984375, 49.001...  0.897183  \n2     [271.44622802734375, 0.18396759033203125, 131....  0.863877  \n3     [398.69219970703125, 17.335731506347656, 111.9...  0.863324  \n4     [108.7020263671875, 248.56393432617188, 81.446...  0.820645  \n...                                                 ...       ...  \n2822  [72.97250366210938, 496.97552490234375, 74.035...  0.580440  \n2823  [257.41925048828125, 312.25347900390625, 31.48...  0.569817  \n2824  [401.1463623046875, 185.92041015625, 48.221679...  0.550418  \n2825  [406.6163330078125, 415.4301452636719, 31.8507...  0.292400  \n2826  [201.96102905273438, 0.0, 62.116180419921875, ...  0.254458  \n\n[2827 rows x 4 columns]",
      "text/html": "<div>\n<style scoped>\n    .dataframe tbody tr th:only-of-type {\n        vertical-align: middle;\n    }\n\n    .dataframe tbody tr th {\n        vertical-align: top;\n    }\n\n    .dataframe thead th {\n        text-align: right;\n    }\n</style>\n<table border=\"1\" class=\"dataframe\">\n  <thead>\n    <tr style=\"text-align: right;\">\n      <th></th>\n      <th>image_id</th>\n      <th>category_id</th>\n      <th>bbox</th>\n      <th>score</th>\n    </tr>\n  </thead>\n  <tbody>\n    <tr>\n      <th>0</th>\n      <td>12513_100_26.png</td>\n      <td>1</td>\n      <td>[417.9322814941406, 400.23883056640625, 47.903...</td>\n      <td>0.939064</td>\n    </tr>\n    <tr>\n      <th>1</th>\n      <td>12513_100_26.png</td>\n      <td>1</td>\n      <td>[66.95234680175781, 427.56439208984375, 49.001...</td>\n      <td>0.897183</td>\n    </tr>\n    <tr>\n      <th>2</th>\n      <td>12513_100_26.png</td>\n      <td>1</td>\n      <td>[271.44622802734375, 0.18396759033203125, 131....</td>\n      <td>0.863877</td>\n    </tr>\n    <tr>\n      <th>3</th>\n      <td>12513_100_26.png</td>\n      <td>1</td>\n      <td>[398.69219970703125, 17.335731506347656, 111.9...</td>\n      <td>0.863324</td>\n    </tr>\n    <tr>\n      <th>4</th>\n      <td>12513_100_26.png</td>\n      <td>1</td>\n      <td>[108.7020263671875, 248.56393432617188, 81.446...</td>\n      <td>0.820645</td>\n    </tr>\n    <tr>\n      <th>...</th>\n      <td>...</td>\n      <td>...</td>\n      <td>...</td>\n      <td>...</td>\n    </tr>\n    <tr>\n      <th>2822</th>\n      <td>12513_99_29.png</td>\n      <td>1</td>\n      <td>[72.97250366210938, 496.97552490234375, 74.035...</td>\n      <td>0.580440</td>\n    </tr>\n    <tr>\n      <th>2823</th>\n      <td>12513_99_29.png</td>\n      <td>2</td>\n      <td>[257.41925048828125, 312.25347900390625, 31.48...</td>\n      <td>0.569817</td>\n    </tr>\n    <tr>\n      <th>2824</th>\n      <td>12513_99_29.png</td>\n      <td>1</td>\n      <td>[401.1463623046875, 185.92041015625, 48.221679...</td>\n      <td>0.550418</td>\n    </tr>\n    <tr>\n      <th>2825</th>\n      <td>12513_99_29.png</td>\n      <td>2</td>\n      <td>[406.6163330078125, 415.4301452636719, 31.8507...</td>\n      <td>0.292400</td>\n    </tr>\n    <tr>\n      <th>2826</th>\n      <td>12513_99_29.png</td>\n      <td>1</td>\n      <td>[201.96102905273438, 0.0, 62.116180419921875, ...</td>\n      <td>0.254458</td>\n    </tr>\n  </tbody>\n</table>\n<p>2827 rows × 4 columns</p>\n</div>"
     },
     "execution_count": 5,
     "metadata": {},
     "output_type": "execute_result"
    }
   ],
   "source": [
    "test['image_id']  =test['image_id'].apply(lambda x: id_name[x])\n",
    "test"
   ]
  },
  {
   "cell_type": "code",
   "execution_count": 6,
   "metadata": {
    "ExecuteTime": {
     "end_time": "2024-10-15T11:58:33.505279Z",
     "start_time": "2024-10-15T11:58:33.445247Z"
    }
   },
   "outputs": [
    {
     "data": {
      "text/plain": "{1: 'bina', 2: 'yol_kesisim', 3: 'futbol_sahasi', 4: 'silo'}"
     },
     "execution_count": 6,
     "metadata": {},
     "output_type": "execute_result"
    }
   ],
   "source": [
    "# Open and read the JSON file\n",
    "with open(\"data/annotations/train.json\") as f:\n",
    "    data = json.load(f)\n",
    "# Convert the 'categories' section to a DataFrame\n",
    "categories_df = pd.DataFrame(data['categories'])\n",
    "\n",
    "# Inspect the first few rows\n",
    "categories_df = categories_df[['id','name']]\n",
    "categories = categories_df.set_index('id').to_dict()['name']\n",
    "categories"
   ]
  },
  {
   "cell_type": "code",
   "execution_count": 7,
   "metadata": {
    "ExecuteTime": {
     "end_time": "2024-10-15T11:58:33.552838Z",
     "start_time": "2024-10-15T11:58:33.506650Z"
    }
   },
   "outputs": [],
   "source": [
    "\n",
    "\n",
    "import cv2\n",
    "\n",
    "\n",
    "def draw_boxes(x):\n",
    "    # Resmi yükleyelim\n",
    "    image_path = 'data/test-images/'  # Görüntü dosyasının yolu\n",
    "    image = cv2.imread(image_path+x)\n",
    "\n",
    "    # category_id'ye göre renk paleti oluşturma\n",
    "    category_colors = {\n",
    "        1: (255, 0, 0),   # Kategori 1 için kırmızı\n",
    "        2: (0, 255, 0),   # Kategori 2 için yeşil\n",
    "        3: (0, 0, 255),   # Kategori 3 için mavi\n",
    "        4: (102,0,153)\n",
    "    }\n",
    "    boxes = test[test['image_id'] == x]\n",
    "    \n",
    "\n",
    "\n",
    "    # Bbox'ları çizme işlemi\n",
    "    for i in range(0,len(boxes)):\n",
    "    # bounding box koordinatları\n",
    "        x_min, y_min, width, height = boxes['bbox'].iloc[i]\n",
    "        x_max, y_max = x_min + width, y_min + height\n",
    "        \n",
    "        # category_id'ye göre renk seçimi\n",
    "        color = category_colors.get(boxes['category_id'].iloc[i], (255, 255, 255))  # Varsayılan beyaz renk\n",
    "        \n",
    "        # Bounding box çizimi\n",
    "        cv2.rectangle(image, (int(x_min), int(y_min)), (int(x_max), int(y_max)), color, 2)\n",
    "        \n",
    "        # Kategoriyi resim üzerinde gösterme (optional)\n",
    "        categ = categories[boxes['category_id'].iloc[i]]\n",
    "        cv2.putText(image, f\"{categ}: {boxes['category_id'].iloc[i]}\", (int(x_min), int(y_min)-10), cv2.FONT_HERSHEY_SIMPLEX, 0.9, color, 2)\n",
    "\n",
    "    # OpenCV kullanarak sonucu kaydedelim\n",
    "    output_image_path = './output/'+x\n",
    "    cv2.imwrite(output_image_path, image)\n",
    "\n"
   ]
  },
  {
   "cell_type": "code",
   "execution_count": 8,
   "metadata": {
    "ExecuteTime": {
     "end_time": "2024-10-15T11:59:26.495806Z",
     "start_time": "2024-10-15T11:58:33.554344Z"
    }
   },
   "outputs": [
    {
     "data": {
      "text/plain": "0       None\n1       None\n2       None\n3       None\n4       None\n        ... \n2822    None\n2823    None\n2824    None\n2825    None\n2826    None\nName: image_id, Length: 2827, dtype: object"
     },
     "execution_count": 8,
     "metadata": {},
     "output_type": "execute_result"
    }
   ],
   "source": [
    "test['image_id'].apply(draw_boxes)"
   ]
  }
 ],
 "metadata": {
  "kernelspec": {
   "display_name": "yap101",
   "language": "python",
   "name": "python3"
  },
  "language_info": {
   "name": "python",
   "version": "3.12.4"
  }
 },
 "nbformat": 4,
 "nbformat_minor": 2
}
